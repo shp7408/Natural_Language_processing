{
  "nbformat": 4,
  "nbformat_minor": 0,
  "metadata": {
    "colab": {
      "name": "Natural_Language_Processing.ipynb",
      "provenance": [],
      "collapsed_sections": [],
      "include_colab_link": true
    },
    "kernelspec": {
      "name": "python3",
      "display_name": "Python 3"
    },
    "language_info": {
      "name": "python"
    }
  },
  "cells": [
    {
      "cell_type": "markdown",
      "metadata": {
        "id": "view-in-github",
        "colab_type": "text"
      },
      "source": [
        "<a href=\"https://colab.research.google.com/github/shp7408/Natural_Language_processing/blob/main/Natural_Language_Processing.ipynb\" target=\"_parent\"><img src=\"https://colab.research.google.com/assets/colab-badge.svg\" alt=\"Open In Colab\"/></a>"
      ]
    },
    {
      "cell_type": "markdown",
      "source": [
        "# 자연어 처리(Natural Language Processing)\u001c\n",
        "- 자연어는 일상 생활에서 사용하는 언어\n",
        "- 자연어 처리는 자연어의 의미를 분석 처리하는 일\n",
        "- 텍스트 분류, 감성 분석, 문서 요약, 번역, 질의 응답, 음성 인식, 챗봇과 같은 응용\n",
        "\n",
        "# 텍스트 처리"
      ],
      "metadata": {
        "id": "yKNodnWccU55"
      }
    },
    {
      "cell_type": "code",
      "source": [
        "s = 'No pain no gain'\n",
        "'pain' in s"
      ],
      "metadata": {
        "colab": {
          "base_uri": "https://localhost:8080/"
        },
        "id": "TUYcYQ5XctXW",
        "outputId": "0dfaf6cd-5b94-4a76-e020-b1915bf87666"
      },
      "execution_count": null,
      "outputs": [
        {
          "output_type": "execute_result",
          "data": {
            "text/plain": [
              "True"
            ]
          },
          "metadata": {},
          "execution_count": 1
        }
      ]
    },
    {
      "cell_type": "code",
      "source": [
        "s.split()"
      ],
      "metadata": {
        "colab": {
          "base_uri": "https://localhost:8080/"
        },
        "id": "zBZXiIiJc1q8",
        "outputId": "c9d06db6-0413-4f40-8bea-7977706ac379"
      },
      "execution_count": null,
      "outputs": [
        {
          "output_type": "execute_result",
          "data": {
            "text/plain": [
              "['No', 'pain', 'no', 'gain']"
            ]
          },
          "metadata": {},
          "execution_count": 2
        }
      ]
    },
    {
      "cell_type": "code",
      "source": [
        "s.split().index('gain')"
      ],
      "metadata": {
        "colab": {
          "base_uri": "https://localhost:8080/"
        },
        "id": "SYZhi0QDc90U",
        "outputId": "0eef76cc-f9ca-42ce-eba0-d09affa39908"
      },
      "execution_count": null,
      "outputs": [
        {
          "output_type": "execute_result",
          "data": {
            "text/plain": [
              "3"
            ]
          },
          "metadata": {},
          "execution_count": 4
        }
      ]
    },
    {
      "cell_type": "code",
      "source": [
        "s[-4:]"
      ],
      "metadata": {
        "colab": {
          "base_uri": "https://localhost:8080/",
          "height": 36
        },
        "id": "UP_pDvxcdDoQ",
        "outputId": "cbde5415-cf25-4e6f-fd32-9090cfa7a5c0"
      },
      "execution_count": null,
      "outputs": [
        {
          "output_type": "execute_result",
          "data": {
            "text/plain": [
              "'gain'"
            ],
            "application/vnd.google.colaboratory.intrinsic+json": {
              "type": "string"
            }
          },
          "metadata": {},
          "execution_count": 6
        }
      ]
    },
    {
      "cell_type": "code",
      "source": [
        " s.split()[2][::-1]"
      ],
      "metadata": {
        "colab": {
          "base_uri": "https://localhost:8080/",
          "height": 36
        },
        "id": "V8if-zPAdFeR",
        "outputId": "564d5827-fd0a-4bbb-8ca5-762a334e2210"
      },
      "execution_count": null,
      "outputs": [
        {
          "output_type": "execute_result",
          "data": {
            "text/plain": [
              "'on'"
            ],
            "application/vnd.google.colaboratory.intrinsic+json": {
              "type": "string"
            }
          },
          "metadata": {},
          "execution_count": 7
        }
      ]
    },
    {
      "cell_type": "code",
      "source": [
        "s = '한글도 처리 가능'"
      ],
      "metadata": {
        "id": "zsBN38jAdecl"
      },
      "execution_count": null,
      "outputs": []
    },
    {
      "cell_type": "code",
      "source": [
        "'처리' in s"
      ],
      "metadata": {
        "colab": {
          "base_uri": "https://localhost:8080/"
        },
        "id": "aYqRfNnhdlB0",
        "outputId": "27e1c942-191a-4582-b103-3850cdb8a137"
      },
      "execution_count": null,
      "outputs": [
        {
          "output_type": "execute_result",
          "data": {
            "text/plain": [
              "True"
            ]
          },
          "metadata": {},
          "execution_count": 9
        }
      ]
    },
    {
      "cell_type": "code",
      "source": [
        "s.split()"
      ],
      "metadata": {
        "colab": {
          "base_uri": "https://localhost:8080/"
        },
        "id": "4CPQ_wVvdnMc",
        "outputId": "e2a9cf04-67ce-4767-e835-99494bf5ea4c"
      },
      "execution_count": null,
      "outputs": [
        {
          "output_type": "execute_result",
          "data": {
            "text/plain": [
              "['한글도', '처리', '가능']"
            ]
          },
          "metadata": {},
          "execution_count": 10
        }
      ]
    },
    {
      "cell_type": "code",
      "source": [
        "s.split()[0]"
      ],
      "metadata": {
        "colab": {
          "base_uri": "https://localhost:8080/",
          "height": 36
        },
        "id": "zfGi-hemdpnn",
        "outputId": "3002e39f-976c-4e13-8f17-540b1f6a1369"
      },
      "execution_count": null,
      "outputs": [
        {
          "output_type": "execute_result",
          "data": {
            "text/plain": [
              "'한글도'"
            ],
            "application/vnd.google.colaboratory.intrinsic+json": {
              "type": "string"
            }
          },
          "metadata": {},
          "execution_count": 13
        }
      ]
    },
    {
      "cell_type": "markdown",
      "source": [
        "# 정규화(Normalization)"
      ],
      "metadata": {
        "id": "ScNga4ZjeMw1"
      }
    },
    {
      "cell_type": "code",
      "source": [
        "s = \"I visited UK from US on 22-09-20\"\n",
        "print(s)"
      ],
      "metadata": {
        "id": "AJKUg1ljdvpt",
        "colab": {
          "base_uri": "https://localhost:8080/"
        },
        "outputId": "ebc96b74-bf14-43c7-be96-17aa0c50962c"
      },
      "execution_count": 1,
      "outputs": [
        {
          "output_type": "stream",
          "name": "stdout",
          "text": [
            "I visited UK from US on 22-09-20\n"
          ]
        }
      ]
    },
    {
      "cell_type": "code",
      "source": [
        "new_s = s.replace(\"UK\", \"United Kingdom\").replace(\"US\", \"United States\").replace(\"-20\", \"-2020\")\n",
        "print(new_s)"
      ],
      "metadata": {
        "colab": {
          "base_uri": "https://localhost:8080/"
        },
        "id": "lIwVWesNn476",
        "outputId": "0728aef5-2b02-4a37-be80-6afa675dc195"
      },
      "execution_count": 2,
      "outputs": [
        {
          "output_type": "stream",
          "name": "stdout",
          "text": [
            "I visited United Kingdom from United States on 22-09-2020\n"
          ]
        }
      ]
    },
    {
      "cell_type": "markdown",
      "source": [
        "# 정규표현식\n",
        "- 정규 표현식은 특정 문자들을 편리하게 지정하고 추가, 삭제 가능\n",
        "- 데이터 전처리에서 정규 표현식을 많이 사용\n",
        "- 파이썬에서는 정규 표현식을 지원하는 **re** 패키지 지원\n",
        "\n",
        "```\n",
        "  앞의 문자 1개를 표현 =>.\n",
        "  문자 한 개를 표현하나 존재할 수도, 존재하지 않을 수도 있음(0개 또는 1개) =>?\n",
        "  앞의 문자가 0개 이상 =>*\n",
        "  앞의 문자가 최소 1개 이상 =>+\n",
        "  뒤의 문자로 문자열이 시작 =>^\n",
        "  앞의 문자로 문자열이 끝남 =>\\$\n",
        "  n번 만큼 반복 =>\\{n\\}\n",
        "  n1이상, n2이하만큼 반복, n2를 지정하지 않으면, n1 이상만 반복 =>\\{n1, n2\\}\n",
        "  안에 문자들 중 한 개의 문자와 매치, a-z처럼 범위도 지정 가능 =>\\[ abc \\]\n",
        "  해당 문자를 제외하고 매치 =>\\[ ^a \\]\n",
        "  a 또는 b를 나타냄 =>a|b\n",
        "```\n",
        "- 정규 표현식에서 자주 사용하는 역슬래시(\\)를 이용한 문자 규칙\n",
        "\n",
        "```\n",
        " 역슬래시 자체를 의미 =>\\\\\n",
        " 모든 숫자를 의미, [0-9]와 동일 =>\\d\n",
        " 숫자를 제외한 모든 문자를 의미, [^0-9]와 동일 =>\\D\n",
        " 공백을 의미, [\\t\\n\\r\\f\\v]와 동일 =>\\s\n",
        " 공백을 제외한 모든 문자를 의미, [^\\t\\n\\r\\f\\v]와 동일 =>\\S\n",
        " 문자와 숫자를 의미, [a-zA-Z0-9]와 동일\n",
        " 문자와 숫자를 제외한 다른 문자를 의미, [^z-zA-Z0-9]와 동일\n",
        "```\n",
        "# match\n",
        "- 컴파일한 정규 표현식을 이용해 문자열이 정규 표현식과 맞는지 검사\n"
      ],
      "metadata": {
        "id": "1viHZZdSoly0"
      }
    },
    {
      "cell_type": "code",
      "source": [
        "import re"
      ],
      "metadata": {
        "id": "WMNspZqJoKpV"
      },
      "execution_count": 3,
      "outputs": []
    },
    {
      "cell_type": "code",
      "source": [
        "check = 'ab.'\n",
        "\n",
        "print(re.match(check, 'abc'))\n",
        "print(re.match(check, 'c'))\n",
        "print(re.match(check, 'ab'))"
      ],
      "metadata": {
        "colab": {
          "base_uri": "https://localhost:8080/"
        },
        "id": "2DaDIY8d12Vs",
        "outputId": "c2b2a9a4-7adf-44b4-9d55-68646d9be6ae"
      },
      "execution_count": 4,
      "outputs": [
        {
          "output_type": "stream",
          "name": "stdout",
          "text": [
            "<re.Match object; span=(0, 3), match='abc'>\n",
            "None\n",
            "None\n"
          ]
        }
      ]
    },
    {
      "cell_type": "markdown",
      "source": [
        "# compile\n",
        "- compile을 사용하면, 여러 번 사용할 겅우, 일반 사용보다 더 빠른 속도를 보인다.\n",
        " - compile을 통해 정규 표현식을 사용할 경우, **re** 가 아닌 컴파일한 객체 이름을 통해 사용해야 한다."
      ],
      "metadata": {
        "id": "rAXVEWly2LZn"
      }
    },
    {
      "cell_type": "code",
      "source": [
        "import time\n",
        "\n",
        "normal_s_time = time.time()\n",
        "r ='ab.'\n",
        "for i in range(1000):\n",
        "  re.match(check, 'abc')\n",
        "print('일반 사용 시, 소요 시간 : ', time.time() - normal_s_time)\n",
        "\n",
        "compile_s_time = time.time()\n",
        "r = re.compile('ab.')\n",
        "for i in range(1000):\n",
        "  r.match(check)\n",
        "print('컴파일 사용 시, 소요 시간 : ', time.time() - compile_s_time)"
      ],
      "metadata": {
        "colab": {
          "base_uri": "https://localhost:8080/"
        },
        "id": "DUJugg7d2gtT",
        "outputId": "1bf208f8-5a5b-436a-cd0d-d629d3590103"
      },
      "execution_count": 5,
      "outputs": [
        {
          "output_type": "stream",
          "name": "stdout",
          "text": [
            "일반 사용 시, 소요 시간 :  0.0009829998016357422\n",
            "컴파일 사용 시, 소요 시간 :  0.0006394386291503906\n"
          ]
        }
      ]
    },
    {
      "cell_type": "markdown",
      "source": [
        "# search\n",
        "  - match와 다르게, search는 문자열의 전체를 검사"
      ],
      "metadata": {
        "id": "Uh8y7jkT33QO"
      }
    },
    {
      "cell_type": "code",
      "source": [
        "check = 'ab?'\n",
        "print(re.search('a', check))\n",
        "print(re.match('kkkab',check))\n",
        "print(re.search('kkkab', check))\n",
        "print(re.match('ab', check))"
      ],
      "metadata": {
        "colab": {
          "base_uri": "https://localhost:8080/"
        },
        "id": "bJPLgztr4JD3",
        "outputId": "feb63dd0-77b0-4692-cde5-19d0f6068447"
      },
      "execution_count": 7,
      "outputs": [
        {
          "output_type": "stream",
          "name": "stdout",
          "text": [
            "<re.Match object; span=(0, 1), match='a'>\n",
            "None\n",
            "None\n",
            "<re.Match object; span=(0, 2), match='ab'>\n"
          ]
        }
      ]
    },
    {
      "cell_type": "markdown",
      "source": [
        "# split\n",
        "- 정규 표현식에 해당하는 문자열을 기준으로 문자열을 나눔"
      ],
      "metadata": {
        "id": "0AePSiPc5cu_"
      }
    },
    {
      "cell_type": "code",
      "source": [
        "r = re.compile(' ')\n",
        "print(r.split('abc abbv abcbab'))\n",
        "\n",
        "r = re.compile('c')\n",
        "print(r.split('abc abbc abcbab'))\n",
        "\n",
        "r = re.compile('[1-9]')\n",
        "print(r.split('s1abc 2v3s 4sss 5a'))"
      ],
      "metadata": {
        "colab": {
          "base_uri": "https://localhost:8080/"
        },
        "id": "_5J5m8ou4Ql-",
        "outputId": "0d383315-9de5-41ff-ea71-4f6aa5885df6"
      },
      "execution_count": 8,
      "outputs": [
        {
          "output_type": "stream",
          "name": "stdout",
          "text": [
            "['abc', 'abbv', 'abcbab']\n",
            "['ab', ' abb', ' ab', 'bab']\n",
            "['s', 'abc ', 'v', 's ', 'sss ', 'a']\n"
          ]
        }
      ]
    },
    {
      "cell_type": "markdown",
      "source": [
        "# sub\n",
        "- 정규 표현식과 일치하는 부분을 다른 문자열로 교체"
      ],
      "metadata": {
        "id": "Pq2tMXbN6i4W"
      }
    },
    {
      "cell_type": "code",
      "source": [
        "print(re.sub('[a-z]', 'abcdefg', '1'))\n",
        "print(re.sub('[^a-z]', 'abv defg', '1'))"
      ],
      "metadata": {
        "colab": {
          "base_uri": "https://localhost:8080/"
        },
        "id": "oavp-xFw6pXr",
        "outputId": "494e1842-a8b4-4216-c730-0646aff2d5f0"
      },
      "execution_count": 9,
      "outputs": [
        {
          "output_type": "stream",
          "name": "stdout",
          "text": [
            "1\n",
            "abv defg\n"
          ]
        }
      ]
    },
    {
      "cell_type": "markdown",
      "source": [
        "# findall\n",
        "- 컴파일한 정규 표현식을 이용해 정규 표현식과 맞는 모든 문자(열)을 리스트로 반환"
      ],
      "metadata": {
        "id": "49SArwTB7MPA"
      }
    },
    {
      "cell_type": "code",
      "source": [
        "print(re.findall('[\\d]', '1ab 2cd 3ef 4g'))\n",
        "print(re.findall('[\\W]', '!abcd@@#'))"
      ],
      "metadata": {
        "colab": {
          "base_uri": "https://localhost:8080/"
        },
        "id": "r0kFDUPY66Gr",
        "outputId": "823d56df-3a64-454e-dcdc-81ef27a6ad04"
      },
      "execution_count": 10,
      "outputs": [
        {
          "output_type": "stream",
          "name": "stdout",
          "text": [
            "['1', '2', '3', '4']\n",
            "['!', '@', '@', '#']\n"
          ]
        }
      ]
    },
    {
      "cell_type": "markdown",
      "source": [
        "# finditer\n",
        "- 컴파일한 정규 표현식을 이용해 정규 표현식과 맞는 모든 문자(열)을 iteratror 객체로 반환\n",
        "- iterator 객체를 이용하면, 생성된 객체를 하나씩 자동으로 가져올 수 있어 처리가 간편함"
      ],
      "metadata": {
        "id": "FoVFXpPq8L7T"
      }
    },
    {
      "cell_type": "code",
      "source": [
        "iter1 = re.finditer('[\\d]', '1ab 2cd 3ef 4g')\n",
        "print(iter1)\n",
        "for i in iter1:\n",
        "  print(i)\n",
        "\n",
        "iter2 = re.finditer('[\\W]', '!abcd@@#')\n",
        "print(iter2)\n",
        "for i in iter2:\n",
        "  print(i)"
      ],
      "metadata": {
        "colab": {
          "base_uri": "https://localhost:8080/"
        },
        "id": "vn4ilMBr76F5",
        "outputId": "bce53eb8-2600-4b56-93c4-6535704ff231"
      },
      "execution_count": 12,
      "outputs": [
        {
          "output_type": "stream",
          "name": "stdout",
          "text": [
            "<callable_iterator object at 0x7f1b76e602d0>\n",
            "<re.Match object; span=(0, 1), match='1'>\n",
            "<re.Match object; span=(4, 5), match='2'>\n",
            "<re.Match object; span=(8, 9), match='3'>\n",
            "<re.Match object; span=(12, 13), match='4'>\n",
            "<callable_iterator object at 0x7f1b76f7f110>\n",
            "<re.Match object; span=(0, 1), match='!'>\n",
            "<re.Match object; span=(5, 6), match='@'>\n",
            "<re.Match object; span=(6, 7), match='@'>\n",
            "<re.Match object; span=(7, 8), match='#'>\n"
          ]
        }
      ]
    },
    {
      "cell_type": "markdown",
      "source": [
        ""
      ],
      "metadata": {
        "id": "ggNO18Vc8Iwd"
      }
    }
  ]
}